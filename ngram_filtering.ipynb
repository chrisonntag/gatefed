{
 "cells": [
  {
   "cell_type": "code",
   "execution_count": 1,
   "id": "c1d4b920-45ce-48b4-8108-c2a1c93cd0d0",
   "metadata": {},
   "outputs": [],
   "source": [
    "def filter_sent(split_sent, pos):\n",
    "    words_list = split_sent[: pos] + split_sent[pos + 1:]\n",
    "    return ' '.join(words_list)"
   ]
  },
  {
   "cell_type": "code",
   "execution_count": 24,
   "id": "61e4730c-30bb-47fe-83f3-b831a8fbbeb5",
   "metadata": {},
   "outputs": [],
   "source": [
    "data = [\"You are totally totally dumb .\", \"When you do , you do it great .\"]\n",
    "all_PPL = []\n",
    "\n",
    "for i, sent in enumerate(data):\n",
    "    split_sent = sent.split(' ')\n",
    "    sent_length = len(split_sent)\n",
    "    single_sent_PPL = []\n",
    "    for j in range(sent_length):\n",
    "        processed_sent = filter_sent(split_sent, j)\n",
    "        single_sent_PPL.append(0.8)\n",
    "    all_PPL.append(single_sent_PPL)"
   ]
  },
  {
   "cell_type": "code",
   "execution_count": 8,
   "id": "a4910270-f078-4335-b744-870421886fcb",
   "metadata": {},
   "outputs": [],
   "source": [
    "assert len(all_PPL) == len(data)"
   ]
  },
  {
   "cell_type": "code",
   "execution_count": 25,
   "id": "68bbb7c4-8fc6-410f-b854-acc4ab1efb46",
   "metadata": {},
   "outputs": [
    {
     "data": {
      "text/plain": [
       "[[0.8, 0.8, 0.8, 0.8, 0.8, 0.8], [0.8, 0.8, 0.8, 0.8, 0.8, 0.8, 0.8, 0.8, 0.8]]"
      ]
     },
     "execution_count": 25,
     "metadata": {},
     "output_type": "execute_result"
    }
   ],
   "source": [
    "all_PPL"
   ]
  },
  {
   "cell_type": "code",
   "execution_count": 26,
   "id": "e24144d8-0821-441d-a64e-4058b5dda209",
   "metadata": {},
   "outputs": [],
   "source": [
    "def get_processed_sent(flag_li, orig_sent):\n",
    "    sent = []\n",
    "    for i, word in enumerate(orig_sent):\n",
    "        flag = flag_li[i]\n",
    "        if flag == 1:\n",
    "            sent.append(word)\n",
    "    return ' '.join(sent)"
   ]
  },
  {
   "cell_type": "code",
   "execution_count": 27,
   "id": "06a5b261-1fae-4ca4-b006-fd7f9e630e56",
   "metadata": {},
   "outputs": [
    {
     "data": {
      "text/plain": [
       "[('You are totally totally dumb', 'positive'),\n",
       " ('When you do , you do it great', 'positive')]"
      ]
     },
     "execution_count": 27,
     "metadata": {},
     "output_type": "execute_result"
    }
   ],
   "source": [
    "bar = -200\n",
    "processed_data = []\n",
    "for i, PPL_li in enumerate(all_PPL):\n",
    "    orig_sent = data[i]\n",
    "    orig_split_sent = orig_sent.split(' ')[:-1]\n",
    "    assert len(orig_split_sent) == len(PPL_li) - 1\n",
    "\n",
    "    whole_sentence_PPL = PPL_li[-1]\n",
    "    processed_PPL_li = [ppl - whole_sentence_PPL for ppl in PPL_li][:-1]\n",
    "    flag_li = []\n",
    "    for ppl in processed_PPL_li:\n",
    "        if ppl <= bar:\n",
    "            flag_li.append(0)\n",
    "        else:\n",
    "            flag_li.append(1)\n",
    "\n",
    "    assert len(flag_li) == len(orig_split_sent)\n",
    "    sent = get_processed_sent(flag_li, orig_split_sent)\n",
    "    processed_data.append((sent, \"positive\"))\n",
    "assert len(all_PPL) == len(processed_data)\n",
    "processed_data"
   ]
  }
 ],
 "metadata": {
  "kernelspec": {
   "display_name": "Python 3 (ipykernel)",
   "language": "python",
   "name": "python3"
  },
  "language_info": {
   "codemirror_mode": {
    "name": "ipython",
    "version": 3
   },
   "file_extension": ".py",
   "mimetype": "text/x-python",
   "name": "python",
   "nbconvert_exporter": "python",
   "pygments_lexer": "ipython3",
   "version": "3.11.6"
  }
 },
 "nbformat": 4,
 "nbformat_minor": 5
}
